{
 "cells": [
  {
   "cell_type": "markdown",
   "metadata": {},
   "source": [
    "# Olx Bot\n",
    "## Bot que procura o preco de um produto no olx"
   ]
  },
  {
   "cell_type": "code",
   "execution_count": 9,
   "metadata": {},
   "outputs": [],
   "source": [
    "from selenium import webdriver\n",
    "from selenium.webdriver.support.select import Select\n",
    "from selenium.webdriver.common.by import By\n",
    "from selenium.webdriver.common.keys import Keys\n",
    "from time import sleep\n",
    "import pandas as pd"
   ]
  },
  {
   "cell_type": "code",
   "execution_count": 10,
   "metadata": {},
   "outputs": [],
   "source": [
    "driver = webdriver.Chrome()\n",
    "\n",
    "driver.get(\"https://www.olx.pt/\")\n",
    "sleep(1)\n",
    "button_1 = driver.find_element('xpath', '//*[@id=\"onetrust-accept-btn-handler\"]')\n",
    "button_1.click()\n"
   ]
  },
  {
   "cell_type": "code",
   "execution_count": 11,
   "metadata": {},
   "outputs": [],
   "source": [
    "sleep(3)\n",
    "\n",
    "menssage = 'honda nc750x'\n",
    "search = driver.find_element('xpath', '//*[@id=\"headerSearch\"]')\n",
    "search.send_keys(menssage + Keys.RETURN)\n",
    "\n",
    "\n",
    "driver.find_element('xpath', '//*[@id=\"mainContent\"]/div[2]/form/div[3]/div[4]/div/div/div[1]/div/div').click()\n",
    "driver.find_element('xpath', '//*[@id=\"mainContent\"]/div[2]/form/div[3]/div[4]/div/div/div[1]/div/div/div[2]/div[2]/div[3]').click()\n",
    "\n",
    "sleep(8)"
   ]
  },
  {
   "cell_type": "code",
   "execution_count": 12,
   "metadata": {},
   "outputs": [
    {
     "ename": "AttributeError",
     "evalue": "'list' object has no attribute 'text'",
     "output_type": "error",
     "traceback": [
      "\u001b[0;31m---------------------------------------------------------------------------\u001b[0m",
      "\u001b[0;31mAttributeError\u001b[0m                            Traceback (most recent call last)",
      "Cell \u001b[0;32mIn[12], line 5\u001b[0m\n\u001b[1;32m      3\u001b[0m dividir \u001b[39m=\u001b[39m []\n\u001b[1;32m      4\u001b[0m dataBase \u001b[39m=\u001b[39m []\n\u001b[0;32m----> 5\u001b[0m dividir\u001b[39m=\u001b[39mitems\u001b[39m.\u001b[39;49mtext\u001b[39m.\u001b[39msplit(\u001b[39m'\u001b[39m\u001b[39m\\n\u001b[39;00m\u001b[39m'\u001b[39m)\n\u001b[1;32m      6\u001b[0m \u001b[39mfor\u001b[39;00m i \u001b[39min\u001b[39;00m \u001b[39mrange\u001b[39m(\u001b[39mlen\u001b[39m(items)):\n\u001b[1;32m      7\u001b[0m     \n\u001b[1;32m      8\u001b[0m     \u001b[39m#print(items.text)\u001b[39;00m\n\u001b[1;32m     10\u001b[0m     \u001b[39mprint\u001b[39m(\u001b[39mtype\u001b[39m(\u001b[39mlen\u001b[39m(dividir)))\n",
      "\u001b[0;31mAttributeError\u001b[0m: 'list' object has no attribute 'text'"
     ]
    }
   ],
   "source": [
    "items = driver.find_elements('xpath', '//*[@data-cy=\"l-card\"]')\n",
    "#print(len(items))\n",
    "dividir = []\n",
    "dataBase = []\n",
    "for i in range(len(items)):\n",
    "    dividir=items[i].text.split('\\n')\n",
    "    \n",
    "    #print(items.text)\n",
    "    \n",
    "\n",
    "    oneItem = {}\n",
    "    \n",
    "    if len(dividir[i]) == 4:\n",
    "        oneItem['top'] = None\n",
    "        oneItem['name'] = dividir[0]\n",
    "        oneItem[\"price\"] = dividir[1]\n",
    "        oneItem[\"neg\"] = None\n",
    "        oneItem['local data'] = dividir[2]\n",
    "        oneItem[\"year km\"] = dividir[3]\n",
    "        dataBase.append(oneItem)\n",
    "    elif len(dividir[i]) == 5:\n",
    "        if 'TOP' in dividir[0]:\n",
    "            oneItem['top'] = dividir[0]\n",
    "            oneItem['name'] = dividir[1]\n",
    "            oneItem[\"price\"] = dividir[2]\n",
    "            oneItem[\"neg\"] = None\n",
    "            oneItem['local data'] = dividir[3]\n",
    "            oneItem[\"year km\"] = dividir[4]\n",
    "            dataBase.append(oneItem)\n",
    "        else:\n",
    "            oneItem['top'] = None\n",
    "            oneItem['name'] = dividir[0]\n",
    "            oneItem[\"price\"] = dividir[1]\n",
    "            oneItem[\"neg\"] = dividir[2]\n",
    "            oneItem['local data'] = dividir[3]\n",
    "            oneItem[\"year km\"] = dividir[4]\n",
    "            dataBase.append(oneItem)\n",
    "    elif len(dividir[i]) == 6:\n",
    "        oneItem['top'] = dividir[0]\n",
    "        oneItem['name'] = dividir[1]\n",
    "        oneItem[\"price\"] = dividir[2]\n",
    "        oneItem[\"neg\"] = dividir[3]\n",
    "        oneItem['local data'] = dividir[4]\n",
    "        oneItem[\"year km\"] = dividir[5]\n",
    "        dataBase.append(oneItem)\n",
    "\n",
    "#print(items[1].text)\n",
    "#print(dataBase)\n",
    "\n"
   ]
  },
  {
   "cell_type": "code",
   "execution_count": null,
   "metadata": {},
   "outputs": [],
   "source": [
    "\n",
    "\n",
    "pd.DataFrame(dataBase)\n",
    "\n",
    "driver.quit()"
   ]
  }
 ],
 "metadata": {
  "kernelspec": {
   "display_name": "Python 3",
   "language": "python",
   "name": "python3"
  },
  "language_info": {
   "codemirror_mode": {
    "name": "ipython",
    "version": 3
   },
   "file_extension": ".py",
   "mimetype": "text/x-python",
   "name": "python",
   "nbconvert_exporter": "python",
   "pygments_lexer": "ipython3",
   "version": "3.11.2"
  },
  "orig_nbformat": 4
 },
 "nbformat": 4,
 "nbformat_minor": 2
}
