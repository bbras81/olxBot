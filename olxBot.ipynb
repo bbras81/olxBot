{
 "cells": [
  {
   "cell_type": "markdown",
   "metadata": {},
   "source": [
    "# Olx Bot\n",
    "## Bot que procura o preco de um produto no olx"
   ]
  },
  {
   "cell_type": "code",
   "execution_count": 20,
   "metadata": {},
   "outputs": [],
   "source": [
    "from selenium import webdriver\n",
    "from selenium.webdriver.support.select import Select\n",
    "from selenium.webdriver.common.by import By\n",
    "from selenium.webdriver.common.keys import Keys\n",
    "from time import sleep\n",
    "import pandas as pd"
   ]
  },
  {
   "cell_type": "code",
   "execution_count": 21,
   "metadata": {},
   "outputs": [],
   "source": [
    "driver = webdriver.Chrome()\n",
    "\n",
    "driver.get(\"https://www.olx.pt/\")\n",
    "sleep(1)\n",
    "button_1 = driver.find_element('xpath', '//*[@id=\"onetrust-accept-btn-handler\"]')\n",
    "button_1.click()\n"
   ]
  },
  {
   "cell_type": "code",
   "execution_count": 22,
   "metadata": {},
   "outputs": [],
   "source": [
    "sleep(3)\n",
    "\n",
    "menssage = 'honda nc750x'\n",
    "search = driver.find_element('xpath', '//*[@id=\"headerSearch\"]')\n",
    "search.send_keys(menssage + Keys.RETURN)\n",
    "\n",
    "\n",
    "driver.find_element('xpath', '//*[@id=\"mainContent\"]/div[2]/form/div[3]/div[4]/div/div/div[1]/div/div').click()\n",
    "driver.find_element('xpath', '//*[@id=\"mainContent\"]/div[2]/form/div[3]/div[4]/div/div/div[1]/div/div/div[2]/div[2]/div[3]').click()\n",
    "\n",
    "sleep(8)"
   ]
  },
  {
   "cell_type": "code",
   "execution_count": 23,
   "metadata": {},
   "outputs": [
    {
     "name": "stdout",
     "output_type": "stream",
     "text": [
      "[{'top': 'TOP', 'name': 'Honda Nc750x 2018', 'price': '6.250 €', 'neg': None, 'local data': 'Creixomil - Para o topo a 25 de agosto de 2023', 'year km': '2018 52.250 km'}, {'top': 'TOP', 'name': 'Vendo Honda NC 750 X', 'price': '7.100 €', 'neg': 'Negociável', 'local data': 'Azeitão (São Lourenço E São Simão) - Para o topo a 26 de agosto de 2023', 'year km': '2017 20.500 km'}, {'top': 'TOP', 'name': 'Mota nc 750x Honda', 'price': '8.600 €', 'neg': 'Negociável', 'local data': 'Carriço - 05 de agosto de 2023', 'year km': '2020 8.120 km'}, {'top': 'Honda Nc 750 dct', 'name': '7.200 €', 'price': 'Negociável', 'neg': None, 'local data': 'Montijo E Afonsoeiro - Hoje às 01:01', 'year km': '2019 18.500 km'}, {'top': None, 'name': 'Honda NC750X, como nova', 'price': '7.200 €', 'neg': None, 'local data': 'Aldoar, Foz Do Douro E Nevogilde - Hoje às 00:15', 'year km': '2019 13.491 km'}, {'top': None, 'name': 'Honda NC750X Dct', 'price': '9.000 €', 'neg': None, 'local data': 'Portimão - 26 de agosto de 2023', 'year km': '2023 5.000 km'}, {'top': None, 'name': 'Honda NC 750 X DCT', 'price': '3.500 €', 'neg': None, 'local data': 'Costa Da Caparica - 26 de agosto de 2023', 'year km': '2015 8.200 km'}, {'top': None, 'name': 'Honda NC750X Dct 2021', 'price': '8.190 €', 'neg': None, 'local data': 'Santa Iria De Azoia, São João Da Talha E Bobadela - 26 de agosto de 2023', 'year km': '2021 27.000 km'}, {'top': 'Nc 750x abs honda', 'name': '4.000 €', 'price': 'Negociável', 'neg': None, 'local data': 'Loures - 26 de agosto de 2023', 'year km': '2014 113.000 km'}, {'top': 'Honda NC750X 2021', 'name': '8.200 €', 'price': 'Negociável', 'neg': None, 'local data': 'Aldoar, Foz Do Douro E Nevogilde - 26 de agosto de 2023', 'year km': '2021 10.500 km'}, {'top': None, 'name': 'NC750X HONDA lindíssima', 'price': '4.990 €', 'neg': None, 'local data': 'Leiria, Pousos, Barreira E Cortes - 26 de agosto de 2023', 'year km': '2015 92.000 km'}, {'top': 'TOP', 'name': 'Oportunidade NC 750X ABS', 'price': '5.500 €', 'neg': 'Negociável', 'local data': 'Aver-O-Mar, Amorim E Terroso - 25 de agosto de 2023', 'year km': '2016 79.300 km'}, {'top': 'TOP', 'name': 'Honda NC750X ABS como nova, com mala Givi.', 'price': '6.800 €', 'neg': 'Negociável', 'local data': 'Vialonga - Para o topo a 25 de agosto de 2023', 'year km': '2015 19.000 km'}, {'top': None, 'name': 'Honda NC750X', 'price': '7.450 €', 'neg': None, 'local data': 'São Domingos de Rana - 24 de agosto de 2023', 'year km': '2020 7.965 km'}, {'top': None, 'name': 'Honda NC 750X 2017', 'price': '6.500 €', 'neg': None, 'local data': 'Ílhavo (São Salvador) - 26 de agosto de 2023', 'year km': '2017 17.000 km'}, {'top': None, 'name': 'Honda NC750X', 'price': '8.350 €', 'neg': None, 'local data': 'Coimbra (Sé Nova, Santa Cruz, Almedina E São Bartolomeu) - 26 de agosto de 2023', 'year km': '2022 6.500 km'}, {'top': None, 'name': 'Honda NC750X Dct', 'price': '7.190 €', 'neg': None, 'local data': 'Alfragide - 26 de agosto de 2023', 'year km': '2017 32.000 km'}, {'top': 'Vendo Honda NC 750x', 'name': '6.100 €', 'price': 'Negociável', 'neg': None, 'local data': 'Valongo - 26 de agosto de 2023', 'year km': '2018 40.000 km'}, {'top': 'TOP', 'name': 'Honda hornet 600cc (Aceito trocas)', 'price': '5.100 €', 'neg': None, 'local data': 'Esgueira - Para o topo a 24 de agosto de 2023', 'year km': '2008 26.000 km'}, {'top': 'Vendo Honda NC 750 X', 'name': '7.100 €', 'price': 'Negociável', 'neg': None, 'local data': 'Azeitão (São Lourenço E São Simão) - Para o topo a 26 de agosto de 2023', 'year km': '2017 20.500 km'}, {'top': 'Honda nc750x abs', 'name': '7.500 €', 'price': 'Negociável', 'neg': None, 'local data': 'Anhões E Luzio - 26 de agosto de 2023', 'year km': '2018 31.200 km'}, {'top': None, 'name': 'Honda Nc750x 2018', 'price': '6.250 €', 'neg': None, 'local data': 'Creixomil - Para o topo a 25 de agosto de 2023', 'year km': '2018 52.250 km'}, {'top': None, 'name': 'Honda NC750X (Vários Extras)', 'price': '7.100 €', 'neg': None, 'local data': 'Azeitão (São Lourenço E São Simão) - 25 de agosto de 2023', 'year km': '2018 28.000 km'}, {'top': None, 'name': 'Honda NC750X', 'price': '6.900 €', 'neg': None, 'local data': 'Trofa - 25 de agosto de 2023', 'year km': '2016 32.400 km'}, {'top': 'Oportunidade NC 750X ABS', 'name': '5.500 €', 'price': 'Negociável', 'neg': None, 'local data': 'Aver-O-Mar, Amorim E Terroso - 25 de agosto de 2023', 'year km': '2016 79.300 km'}, {'top': None, 'name': 'Honda NC750X nc 750 X ABS, 4456km, muitos extras', 'price': '7.750 €', 'neg': None, 'local data': 'Fafe - 25 de agosto de 2023', 'year km': '2018 4.456 km'}, {'top': None, 'name': 'Honda nc750x ano 2015', 'price': '5.500 €', 'neg': None, 'local data': 'Louro - 25 de agosto de 2023', 'year km': '2015 38.500 km'}, {'top': None, 'name': 'Honda NC750X', 'price': '6.100 €', 'neg': None, 'local data': 'Arroios - 25 de agosto de 2023', 'year km': '2017 65.075 km'}, {'top': 'Honda NC750X 2021', 'name': '8.000 €', 'price': 'Negociável', 'neg': None, 'local data': 'Cesar - 25 de agosto de 2023', 'year km': '2021 24.000 km'}, {'top': 'Honda NC750X ABS como nova, com mala Givi.', 'name': '6.800 €', 'price': 'Negociável', 'neg': None, 'local data': 'Vialonga - Para o topo a 25 de agosto de 2023', 'year km': '2015 19.000 km'}, {'top': None, 'name': 'Yamaha tenere 660', 'price': '7.000 €', 'neg': None, 'local data': 'Alverca Do Ribatejo E Sobralinho - 25 de agosto de 2023', 'year km': '2009 30.000 km'}, {'top': None, 'name': 'Honda NC750X', 'price': '8.850 €', 'neg': None, 'local data': 'Britelo, Gémeos E Ourilhe - 24 de agosto de 2023', 'year km': '2023'}]\n"
     ]
    }
   ],
   "source": [
    "items = driver.find_elements('xpath', '//*[@data-cy=\"l-card\"]')\n",
    "#print(len(items))\n",
    "dividir = []\n",
    "dataBase = []\n",
    "for i in range(len(items)):\n",
    "    dividir.append(items[i].text.split('\\n'))\n",
    "    #print(dividir)\n",
    "    oneItem = {\n",
    "        \n",
    "    }\n",
    "    match len(dividir[i]):\n",
    "        case 4:\n",
    "            oneItem['top'] = None\n",
    "            oneItem['name'] = dividir[i][0]\n",
    "            oneItem[\"price\"] = dividir[i][1]\n",
    "            oneItem[\"neg\"] = None\n",
    "            oneItem['local data'] = dividir[i][2]\n",
    "            oneItem[\"year km\"] = dividir[i][3]\n",
    "            dataBase.append(oneItem)\n",
    "        case 5:\n",
    "            if 'TOP' in dividir[0]:\n",
    "                oneItem['top'] = dividir[i][0]\n",
    "                oneItem['name'] = dividir[i][1]\n",
    "                oneItem[\"price\"] = dividir[i][2]\n",
    "                oneItem[\"neg\"] = None\n",
    "                oneItem['local data'] = dividir[i][3]\n",
    "                oneItem[\"year km\"] = dividir[i][4]\n",
    "                dataBase.append(oneItem)\n",
    "            else:\n",
    "                oneItem['top'] = None\n",
    "                oneItem['name'] = dividir[i][0]\n",
    "                oneItem[\"price\"] = dividir[i][1]\n",
    "                oneItem[\"neg\"] = dividir[i][2]\n",
    "                oneItem['local data'] = dividir[i][3]\n",
    "                oneItem[\"year km\"] = dividir[i][4]\n",
    "                dataBase.append(oneItem)\n",
    "        case 6:\n",
    "            oneItem['top'] = dividir[i][0]\n",
    "            oneItem['name'] = dividir[i][1]\n",
    "            oneItem[\"price\"] = dividir[i][2]\n",
    "            oneItem[\"neg\"] = dividir[i][3]\n",
    "            oneItem['local data'] = dividir[i][4]\n",
    "            oneItem[\"year km\"] = dividir[i][5]\n",
    "            dataBase.append(oneItem)\n",
    "    \n",
    "    \n",
    "\n",
    "#print(items[1].text)\n",
    "print(dataBase)\n",
    "\n"
   ]
  },
  {
   "cell_type": "code",
   "execution_count": 24,
   "metadata": {},
   "outputs": [],
   "source": [
    "\n",
    "\n",
    "pd.DataFrame(dataBase)\n",
    "\n",
    "driver.quit()"
   ]
  }
 ],
 "metadata": {
  "kernelspec": {
   "display_name": "Python 3",
   "language": "python",
   "name": "python3"
  },
  "language_info": {
   "codemirror_mode": {
    "name": "ipython",
    "version": 3
   },
   "file_extension": ".py",
   "mimetype": "text/x-python",
   "name": "python",
   "nbconvert_exporter": "python",
   "pygments_lexer": "ipython3",
   "version": "3.11.2"
  },
  "orig_nbformat": 4
 },
 "nbformat": 4,
 "nbformat_minor": 2
}
