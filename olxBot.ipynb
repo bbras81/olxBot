{
 "cells": [
  {
   "cell_type": "markdown",
   "metadata": {},
   "source": [
    "# Olx Bot\n",
    "## Bot que procura o preco de um produto no olx"
   ]
  },
  {
   "cell_type": "code",
   "execution_count": 81,
   "metadata": {},
   "outputs": [],
   "source": [
    "from selenium import webdriver\n",
    "from selenium.webdriver.support.select import Select\n",
    "from selenium.webdriver.common.by import By\n",
    "from selenium.webdriver.common.keys import Keys\n",
    "from time import sleep"
   ]
  },
  {
   "cell_type": "code",
   "execution_count": 82,
   "metadata": {},
   "outputs": [],
   "source": [
    "driver = webdriver.Chrome()\n",
    "\n",
    "driver.get(\"https://www.olx.pt/\")\n",
    "sleep(3)\n",
    "button_1 = driver.find_element('xpath', '//*[@id=\"onetrust-accept-btn-handler\"]')\n",
    "button_1.click()\n"
   ]
  },
  {
   "cell_type": "code",
   "execution_count": 83,
   "metadata": {},
   "outputs": [],
   "source": [
    "sleep(3)\n",
    "\n",
    "menssage = 'honda nc750x'\n",
    "search = driver.find_element('xpath', '//*[@id=\"headerSearch\"]')\n",
    "search.send_keys(menssage + Keys.RETURN)\n",
    "\n",
    "\n",
    "driver.find_element('xpath', '//*[@id=\"mainContent\"]/div[2]/form/div[3]/div[4]/div/div/div[1]/div/div').click()\n",
    "driver.find_element('xpath', '//*[@id=\"mainContent\"]/div[2]/form/div[3]/div[4]/div/div/div[1]/div/div/div[2]/div[2]/div[3]').click()\n",
    "\n",
    "sleep(8)"
   ]
  },
  {
   "cell_type": "code",
   "execution_count": 84,
   "metadata": {},
   "outputs": [
    {
     "name": "stdout",
     "output_type": "stream",
     "text": [
      "['TOP', 'Honda Nc750x 2018', '6.250 €', 'Creixomil - Para o topo a 25 de agosto de 2023', '2018 52.250 km']\n"
     ]
    }
   ],
   "source": [
    "items = driver.find_elements('xpath', '//*[@data-cy=\"l-card\"]')\n",
    "#print(len(items))\n",
    "dividir = items[0].text.split('\\n')\n",
    "\n",
    "#print(items[1].text)\n",
    "print(dividir)\n",
    "\n",
    "driver.quit()"
   ]
  }
 ],
 "metadata": {
  "kernelspec": {
   "display_name": "Python 3",
   "language": "python",
   "name": "python3"
  },
  "language_info": {
   "codemirror_mode": {
    "name": "ipython",
    "version": 3
   },
   "file_extension": ".py",
   "mimetype": "text/x-python",
   "name": "python",
   "nbconvert_exporter": "python",
   "pygments_lexer": "ipython3",
   "version": "3.11.2"
  },
  "orig_nbformat": 4
 },
 "nbformat": 4,
 "nbformat_minor": 2
}
